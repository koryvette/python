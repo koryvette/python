{
 "cells": [
  {
   "cell_type": "markdown",
   "metadata": {},
   "source": [
    "  # THE PRICE IS RIGHT"
   ]
  },
  {
   "cell_type": "code",
   "execution_count": 77,
   "metadata": {},
   "outputs": [],
   "source": [
    "import pandas as pd"
   ]
  },
  {
   "cell_type": "code",
   "execution_count": 78,
   "metadata": {},
   "outputs": [],
   "source": [
    "import sqlite3"
   ]
  },
  {
   "cell_type": "code",
   "execution_count": 79,
   "metadata": {},
   "outputs": [],
   "source": [
    "import glob"
   ]
  },
  {
   "cell_type": "code",
   "execution_count": 80,
   "metadata": {},
   "outputs": [],
   "source": [
    "import matplotlib.pyplot as plt"
   ]
  },
  {
   "cell_type": "code",
   "execution_count": 81,
   "metadata": {},
   "outputs": [],
   "source": [
    "import numpy"
   ]
  },
  {
   "cell_type": "markdown",
   "metadata": {},
   "source": [
    "## import Showcase data from Excel"
   ]
  },
  {
   "cell_type": "code",
   "execution_count": 82,
   "metadata": {},
   "outputs": [],
   "source": [
    "ShowcaseStats = pd.read_csv(\"https://raw.githubusercontent.com/koryvette/python/master/project/Showcase_spin.csv\")"
   ]
  },
  {
   "cell_type": "code",
   "execution_count": 83,
   "metadata": {},
   "outputs": [
    {
     "data": {
      "text/html": [
       "<div>\n",
       "<style scoped>\n",
       "    .dataframe tbody tr th:only-of-type {\n",
       "        vertical-align: middle;\n",
       "    }\n",
       "\n",
       "    .dataframe tbody tr th {\n",
       "        vertical-align: top;\n",
       "    }\n",
       "\n",
       "    .dataframe thead th {\n",
       "        text-align: right;\n",
       "    }\n",
       "</style>\n",
       "<table border=\"1\" class=\"dataframe\">\n",
       "  <thead>\n",
       "    <tr style=\"text-align: right;\">\n",
       "      <th></th>\n",
       "      <th>Season</th>\n",
       "      <th>First_spinner_won</th>\n",
       "      <th>Second_spinner_won</th>\n",
       "      <th>Third_spinner_won</th>\n",
       "    </tr>\n",
       "  </thead>\n",
       "  <tbody>\n",
       "    <tr>\n",
       "      <th>0</th>\n",
       "      <td>29</td>\n",
       "      <td>92</td>\n",
       "      <td>115</td>\n",
       "      <td>121</td>\n",
       "    </tr>\n",
       "    <tr>\n",
       "      <th>1</th>\n",
       "      <td>30</td>\n",
       "      <td>93</td>\n",
       "      <td>133</td>\n",
       "      <td>124</td>\n",
       "    </tr>\n",
       "    <tr>\n",
       "      <th>2</th>\n",
       "      <td>31</td>\n",
       "      <td>103</td>\n",
       "      <td>129</td>\n",
       "      <td>118</td>\n",
       "    </tr>\n",
       "    <tr>\n",
       "      <th>3</th>\n",
       "      <td>32</td>\n",
       "      <td>106</td>\n",
       "      <td>114</td>\n",
       "      <td>130</td>\n",
       "    </tr>\n",
       "    <tr>\n",
       "      <th>4</th>\n",
       "      <td>33</td>\n",
       "      <td>119</td>\n",
       "      <td>106</td>\n",
       "      <td>125</td>\n",
       "    </tr>\n",
       "  </tbody>\n",
       "</table>\n",
       "</div>"
      ],
      "text/plain": [
       "   Season  First_spinner_won  Second_spinner_won  Third_spinner_won\n",
       "0      29                 92                 115                121\n",
       "1      30                 93                 133                124\n",
       "2      31                103                 129                118\n",
       "3      32                106                 114                130\n",
       "4      33                119                 106                125"
      ]
     },
     "execution_count": 83,
     "metadata": {},
     "output_type": "execute_result"
    }
   ],
   "source": [
    "ShowcaseStats.head()"
   ]
  },
  {
   "cell_type": "markdown",
   "metadata": {},
   "source": [
    "## read to SQLite"
   ]
  },
  {
   "cell_type": "code",
   "execution_count": 84,
   "metadata": {},
   "outputs": [],
   "source": [
    "import sqlite3"
   ]
  },
  {
   "cell_type": "code",
   "execution_count": 85,
   "metadata": {},
   "outputs": [],
   "source": [
    "con = sqlite3.connect('priceisright.db')"
   ]
  },
  {
   "cell_type": "code",
   "execution_count": 86,
   "metadata": {},
   "outputs": [],
   "source": [
    "df_win = pd.read_csv('https://raw.githubusercontent.com/koryvette/python/master/project/output.csv')"
   ]
  },
  {
   "cell_type": "code",
   "execution_count": 87,
   "metadata": {},
   "outputs": [
    {
     "data": {
      "text/html": [
       "<div>\n",
       "<style scoped>\n",
       "    .dataframe tbody tr th:only-of-type {\n",
       "        vertical-align: middle;\n",
       "    }\n",
       "\n",
       "    .dataframe tbody tr th {\n",
       "        vertical-align: top;\n",
       "    }\n",
       "\n",
       "    .dataframe thead th {\n",
       "        text-align: right;\n",
       "    }\n",
       "</style>\n",
       "<table border=\"1\" class=\"dataframe\">\n",
       "  <thead>\n",
       "    <tr style=\"text-align: right;\">\n",
       "      <th></th>\n",
       "      <th>season</th>\n",
       "      <th>game</th>\n",
       "      <th>win</th>\n",
       "      <th>loss</th>\n",
       "    </tr>\n",
       "  </thead>\n",
       "  <tbody>\n",
       "    <tr>\n",
       "      <th>0</th>\n",
       "      <td>29</td>\n",
       "      <td>Any_Number</td>\n",
       "      <td>12</td>\n",
       "      <td>15</td>\n",
       "    </tr>\n",
       "    <tr>\n",
       "      <th>1</th>\n",
       "      <td>29</td>\n",
       "      <td>Balance_Game</td>\n",
       "      <td>0</td>\n",
       "      <td>0</td>\n",
       "    </tr>\n",
       "    <tr>\n",
       "      <th>2</th>\n",
       "      <td>29</td>\n",
       "      <td>Barkers_Bargain_Bar</td>\n",
       "      <td>23</td>\n",
       "      <td>8</td>\n",
       "    </tr>\n",
       "    <tr>\n",
       "      <th>3</th>\n",
       "      <td>29</td>\n",
       "      <td>Barkers_MarkerS</td>\n",
       "      <td>3</td>\n",
       "      <td>5</td>\n",
       "    </tr>\n",
       "    <tr>\n",
       "      <th>4</th>\n",
       "      <td>29</td>\n",
       "      <td>Bonkers</td>\n",
       "      <td>0</td>\n",
       "      <td>0</td>\n",
       "    </tr>\n",
       "  </tbody>\n",
       "</table>\n",
       "</div>"
      ],
      "text/plain": [
       "   season                 game  win  loss\n",
       "0      29           Any_Number   12    15\n",
       "1      29         Balance_Game    0     0\n",
       "2      29  Barkers_Bargain_Bar   23     8\n",
       "3      29      Barkers_MarkerS    3     5\n",
       "4      29              Bonkers    0     0"
      ]
     },
     "execution_count": 87,
     "metadata": {},
     "output_type": "execute_result"
    }
   ],
   "source": [
    "df_win.head()"
   ]
  },
  {
   "cell_type": "code",
   "execution_count": 88,
   "metadata": {},
   "outputs": [],
   "source": [
    "df_win.to_sql('Games',con, if_exists='replace') "
   ]
  },
  {
   "cell_type": "markdown",
   "metadata": {},
   "source": [
    "### These are the results intend to chart.  This will show the win percentage of each year of the Price Is Right since 2000."
   ]
  },
  {
   "cell_type": "code",
   "execution_count": 89,
   "metadata": {},
   "outputs": [
    {
     "name": "stdout",
     "output_type": "stream",
     "text": [
      "29 2000 948 48.170731707317074 1968\n",
      "30 2001 1042 49.61904761904762 2100\n",
      "31 2002 1000 47.61904761904761 2100\n",
      "32 2003 1030 49.047619047619044 2100\n",
      "33 2004 1036 49.333333333333336 2100\n",
      "34 2005 1000 47.61904761904761 2100\n",
      "35 2006 1000 47.61904761904761 2100\n",
      "36 2007 1068 46.8421052631579 2280\n",
      "37 2008 920 40.139616055846425 2292\n",
      "38 2009 830 36.40350877192983 2280\n",
      "39 2010 796 34.91228070175438 2280\n",
      "40 2011 900 39.26701570680628 2292\n",
      "41 2012 970 42.7689594356261 2268\n",
      "42 2013 974 42.719298245614034 2280\n",
      "43 2014 1050 46.05263157894737 2280\n",
      "44 2015 1056 46.519823788546255 2270\n",
      "45 2016 1048 46.00526777875329 2278\n",
      "46 2017 1024 44.91228070175438 2280\n"
     ]
    }
   ],
   "source": [
    "season_results = con.execute('SELECT Season, sum(Win) AS WIN_Total, sum(Loss) AS [LOSS_Total], (sum(Win) + sum(Loss)) AS [TOTAL_Played] from Games'\\\n",
    "                       ' GROUP BY Season')\n",
    "for row in season_results:\n",
    "    season = row[0]\n",
    "    year = row[0] + 1971\n",
    "    wins = row[1]\n",
    "    losses = row[2]\n",
    "    games = row[3]\n",
    "    win_pct = 100 * (wins / games)\n",
    "    \n",
    "    print(season, year, wins, win_pct, games)\n",
    "\n",
    "    "
   ]
  },
  {
   "cell_type": "code",
   "execution_count": 90,
   "metadata": {},
   "outputs": [],
   "source": [
    "con.close()"
   ]
  },
  {
   "cell_type": "code",
   "execution_count": null,
   "metadata": {},
   "outputs": [],
   "source": []
  },
  {
   "cell_type": "code",
   "execution_count": 92,
   "metadata": {},
   "outputs": [
    {
     "name": "stdout",
     "output_type": "stream",
     "text": [
      "[2000, 2001, 2002, 2003, 2004, 2005, 2006, 2007, 2008, 2009, 2010, 2011, 2012, 2013, 2014, 2015, 2016, 2017]\n",
      "[48.170731707317074, 49.61904761904762, 47.61904761904761, 49.047619047619044, 49.333333333333336, 47.61904761904761, 47.61904761904761, 46.8421052631579, 40.139616055846425, 36.40350877192983, 34.91228070175438, 39.26701570680628, 42.7689594356261, 42.719298245614034, 46.05263157894737, 46.519823788546255, 46.00526777875329, 44.91228070175438]\n"
     ]
    }
   ],
   "source": [
    "season_graph = con.execute('SELECT Season, sum(Win) AS WIN_Total, sum(Loss) AS [LOSS_Total], (sum(Win) + sum(Loss)) AS [TOTAL_Played] from Games'\\\n",
    "                       ' GROUP BY Season')\n",
    "\n",
    "seasonArray = []\n",
    "winpctArray = []\n",
    "\n",
    "for row in season_graph:\n",
    "    startingInfo = str(row).replace(')','').replace('(','').replace('u\\'','').replace(\"'\",\"\")\n",
    "    splitInfo = startingInfo.split(',')\n",
    "    seasonAppend = (int(splitInfo[0])+1971)\n",
    "    winpctAppend = ((int(splitInfo[1])) / (int(splitInfo[3])))*100\n",
    "    seasonArray.append(seasonAppend)\n",
    "    winpctArray.append(winpctAppend)\n",
    "    \n",
    "print(seasonArray)\n",
    "print(winpctArray)"
   ]
  },
  {
   "cell_type": "code",
   "execution_count": 93,
   "metadata": {},
   "outputs": [
    {
     "data": {
      "image/png": "[encoded data removed]",
      "text/plain": [
       "<Figure size 432x288 with 1 Axes>"
      ]
     },
     "metadata": {},
     "output_type": "display_data"
    }
   ],
   "source": [
    "x = seasonArray\n",
    "y = winpctArray\n",
    "\n",
    "plt.bar(x,y, label='Season')\n",
    "\n",
    "plt.xlabel('Season')\n",
    "plt.ylabel('Win Pct')\n",
    "plt.title('Win Pct by SEASON')\n",
    "plt.legend()\n",
    "\n",
    "plt.show()\n"
   ]
  },
  {
   "cell_type": "code",
   "execution_count": 94,
   "metadata": {},
   "outputs": [],
   "source": [
    "con.close()"
   ]
  },
  {
   "cell_type": "code",
   "execution_count": null,
   "metadata": {},
   "outputs": [],
   "source": []
  },
  {
   "cell_type": "code",
   "execution_count": 95,
   "metadata": {},
   "outputs": [],
   "source": []
  },
  {
   "cell_type": "code",
   "execution_count": 104,
   "metadata": {},
   "outputs": [
    {
     "name": "stdout",
     "output_type": "stream",
     "text": [
      "10_Chances 50 98 47.53086419753087\n",
      "1_Right_Price 50 98 56.2043795620438\n",
      "1_Wrong_Price 50 98 47.10144927536232\n",
      "2_for_the_Price_of_1 50 98 44.52054794520548\n",
      "3_Strikes 50 98 29.67032967032967\n",
      "Any_Number 50 98 36.80709534368071\n",
      "Balance_Game 50 98 42.32804232804233\n",
      "Barkers_Bargain_Bar 50 98 62.322274881516584\n",
      "Barkers_MarkerS 50 98 52.94117647058823\n",
      "Bonkers 50 98 45.1219512195122\n",
      "Bonus_Game 50 98 70.54794520547945\n",
      "Bullseye 50 98 79.1044776119403\n",
      "Buy_or_Sell 50 98 74.50980392156863\n",
      "Card_Game 50 98 37.86008230452675\n",
      "Check-Out 50 98 39.682539682539684\n",
      "Check_Game 50 98 38.96103896103896\n",
      "Clearance_Sale 50 98 33.333333333333336\n",
      "Cliff_Hangers 50 98 69.64769647696477\n",
      "Clock_Game 50 98 63.984674329501914\n",
      "Coming_or_Going 50 98 59.946236559139784\n",
      "Cover_Up 50 98 33.18077803203661\n",
      "Credit_Card 50 98 41.81818181818182\n",
      "Danger_Price 50 98 38.857142857142854\n",
      "Dice_Game 50 98 49.31129476584022\n",
      "Do_the_Math 50 98 60.68376068376068\n",
      "Double_Cross 50 98 64.58333333333333\n",
      "Double_Prices 50 98 59.51035781544256\n",
      "Eazy_az_1_2_3 50 98 53.97489539748954\n",
      "Five_Price_Tags 50 98 36.312849162011176\n",
      "Flip_Flop 50 98 47.4537037037037\n",
      "Freeze_Frame 50 98 36.011080332409975\n",
      "Gas_Money 50 98 9.23076923076923\n",
      "Golden_Road 50 98 17.391304347826086\n",
      "Grand_Game 50 98 33.98533007334963\n",
      "Gridlock 50 98 53.333333333333336\n",
      "Grocery_Game 50 98 34.22222222222222\n",
      "Half_Off 50 98 31.6793893129771\n",
      "Hi_Lo 50 98 41.6267942583732\n",
      "Hit_Me 50 98 75.32467532467533\n",
      "Hole_in_One 50 98 65.3061224489796\n",
      "Hot_Seat 50 98 9.67741935483871\n",
      "Its_in_the_Bag 50 98 7.121661721068249\n",
      "Joker 50 98 73.07692307692308\n",
      "Let_em_Roll 50 98 43.61233480176212\n",
      "Line_em_Up 50 98 44.33497536945813\n",
      "Lucky_Seven 50 98 29.400386847195357\n",
      "Magic_Number 50 98 49.24242424242424\n",
      "Make_Your_Move 50 98 43.005181347150256\n",
      "Master_Key 50 98 39.726027397260275\n",
      "Money_Game 50 98 45.52238805970149\n",
      "More_or_Less 50 98 18.51851851851852\n",
      "Most_ExpenSive 50 98 53.86178861788618\n",
      "Now_or_Then 50 98 70.91836734693878\n",
      "On_the_Spot 50 98 42.30769230769231\n",
      "One_Away 50 98 39.62765957446808\n",
      "Pass_The_Buck 50 98 27.391304347826086\n",
      "Pathfinder 50 98 24.107142857142858\n",
      "Pay_the_Rent 50 98 5.47945205479452\n",
      "Penny_Ante 50 98 82.3529411764706\n",
      "Pick-a-Number 50 98 39.849624060150376\n",
      "Pick-a-Pair 50 98 77.81818181818181\n",
      "Plinko 50 98 45.18518518518518\n",
      "Pocket_Change 50 98 46.470588235294116\n",
      "Poker_Game 50 98 92.85714285714286\n",
      "Punch_a_Bunch 50 98 6.432748538011696\n",
      "Push_Over 50 98 48.04123711340206\n",
      "Race_Game 50 98 53.5\n",
      "Range_Game 50 98 51.968503937007874\n",
      "Rat_Race 50 98 35.05154639175258\n",
      "Safe_Crackers 50 98 50.77720207253886\n",
      "Secret_X 50 98 52.32067510548523\n",
      "Shell_Game 50 98 70.78651685393258\n",
      "Shopping_Spree 50 98 62.359550561797754\n",
      "Side_by_Side 50 98 66.21160409556315\n",
      "Spelling_Bee 50 98 46.794871794871796\n",
      "Squeeze_Play 50 98 40.71294559099437\n",
      "Stack_the_Deck 50 98 16.129032258064516\n",
      "Step_Up 50 98 11.25\n",
      "Swap_Meet 50 98 46.835443037974684\n",
      "Switch? 50 98 65.11627906976744\n",
      "Switcheroo 50 98 21.176470588235293\n",
      "Take_Two 50 98 52.713178294573645\n",
      "Temptation 50 98 12.121212121212121\n",
      "Thats_Too_Much 50 98 23.819742489270386\n",
      "Time_is_Money 50 98 18.666666666666668\n",
      "Triple_Play 50 98 15.662650602409638\n",
      "Vend-O-Price 50 98 51.02040816326531\n"
     ]
    }
   ],
   "source": [
    "df_game_results = con.execute('SELECT Game, sum(Win) AS WIN_Total, sum(Loss) AS LOSS_Total, (sum(Win) + sum(Loss)) AS [TOTAL_Played] from Games'\\\n",
    "                       ' GROUP BY Game')\n",
    "for row in df_game_results:\n",
    "    Game = row[0]\n",
    "    gameWins = row[1]\n",
    "    games_played = row[3]\n",
    "    win_pct = 100 * gameWins / games_played\n",
    "    \n",
    "\n",
    "    print(Game, wins, Total_played, win_pct)"
   ]
  },
  {
   "cell_type": "code",
   "execution_count": null,
   "metadata": {},
   "outputs": [],
   "source": []
  },
  {
   "cell_type": "code",
   "execution_count": null,
   "metadata": {},
   "outputs": [],
   "source": []
  },
  {
   "cell_type": "markdown",
   "metadata": {},
   "source": [
    "### Now we need to find out which game presents the best opportunity to win during that year.  "
   ]
  },
  {
   "cell_type": "code",
   "execution_count": 107,
   "metadata": {},
   "outputs": [
    {
     "name": "stdout",
     "output_type": "stream",
     "text": [
      "[\"'10_Chances'\", \"'1_Right_Price'\", \"'1_Wrong_Price'\", \"'2_for_the_Price_of_1'\", \"'3_Strikes'\", \"'Any_Number'\", \"'Balance_Game'\", \"'Barkers_Bargain_Bar'\", \"'Barkers_MarkerS'\", \"'Bonkers'\", \"'Bonus_Game'\", \"'Bullseye'\", \"'Buy_or_Sell'\", \"'Card_Game'\", \"'Check-Out'\", \"'Check_Game'\", \"'Clearance_Sale'\", \"'Cliff_Hangers'\", \"'Clock_Game'\", \"'Coming_or_Going'\", \"'Cover_Up'\", \"'Credit_Card'\", \"'Danger_Price'\", \"'Dice_Game'\", \"'Do_the_Math'\", \"'Double_Cross'\", \"'Double_Prices'\", \"'Eazy_az_1_2_3'\", \"'Five_Price_Tags'\", \"'Flip_Flop'\", \"'Freeze_Frame'\", \"'Gas_Money'\", \"'Golden_Road'\", \"'Grand_Game'\", \"'Gridlock'\", \"'Grocery_Game'\", \"'Half_Off'\", \"'Hi_Lo'\", \"'Hit_Me'\", \"'Hole_in_One'\", \"'Hot_Seat'\", \"'Its_in_the_Bag'\", \"'Joker'\", \"'Let_em_Roll'\", \"'Line_em_Up'\", \"'Lucky_Seven'\", \"'Magic_Number'\", \"'Make_Your_Move'\", \"'Master_Key'\", \"'Money_Game'\", \"'More_or_Less'\", \"'Most_ExpenSive'\", \"'Now_or_Then'\", \"'On_the_Spot'\", \"'One_Away'\", \"'Pass_The_Buck'\", \"'Pathfinder'\", \"'Pay_the_Rent'\", \"'Penny_Ante'\", \"'Pick-a-Number'\", \"'Pick-a-Pair'\", \"'Plinko'\", \"'Pocket_Change'\", \"'Poker_Game'\", \"'Punch_a_Bunch'\", \"'Push_Over'\", \"'Race_Game'\", \"'Range_Game'\", \"'Rat_Race'\", \"'Safe_Crackers'\", \"'Secret_X'\", \"'Shell_Game'\", \"'Shopping_Spree'\", \"'Side_by_Side'\", \"'Spelling_Bee'\", \"'Squeeze_Play'\", \"'Stack_the_Deck'\", \"'Step_Up'\", \"'Swap_Meet'\", \"'Switch?'\", \"'Switcheroo'\", \"'Take_Two'\", \"'Temptation'\", \"'Thats_Too_Much'\", \"'Time_is_Money'\", \"'Triple_Play'\", \"'Vend-O-Price'\"]\n",
      "[47.53086419753087, 56.20437956204379, 47.10144927536232, 44.52054794520548, 29.67032967032967, 36.80709534368071, 42.32804232804233, 62.32227488151659, 52.94117647058824, 45.1219512195122, 70.54794520547945, 79.1044776119403, 74.50980392156863, 37.86008230452675, 39.682539682539684, 38.961038961038966, 33.33333333333333, 69.64769647696477, 63.984674329501914, 59.946236559139784, 33.18077803203661, 41.81818181818181, 38.857142857142854, 49.311294765840216, 60.68376068376068, 64.58333333333334, 59.51035781544256, 53.97489539748954, 36.312849162011176, 47.4537037037037, 36.011080332409975, 9.230769230769232, 17.391304347826086, 33.98533007334964, 53.333333333333336, 34.22222222222222, 31.679389312977097, 41.62679425837321, 75.32467532467533, 65.3061224489796, 9.67741935483871, 7.121661721068249, 73.07692307692307, 43.61233480176212, 44.33497536945813, 29.40038684719536, 49.24242424242424, 43.005181347150256, 39.726027397260275, 45.52238805970149, 18.51851851851852, 53.86178861788618, 70.91836734693877, 42.30769230769231, 39.62765957446808, 27.391304347826086, 24.107142857142858, 5.47945205479452, 82.35294117647058, 39.849624060150376, 77.81818181818181, 45.18518518518518, 46.470588235294116, 92.85714285714286, 6.432748538011696, 48.04123711340206, 53.5, 51.96850393700787, 35.051546391752574, 50.77720207253886, 52.320675105485236, 70.78651685393258, 62.35955056179775, 66.21160409556313, 46.794871794871796, 40.71294559099437, 16.129032258064516, 11.25, 46.835443037974684, 65.11627906976744, 21.176470588235293, 52.71317829457365, 12.121212121212121, 23.819742489270386, 18.666666666666668, 15.66265060240964, 51.02040816326531]\n"
     ]
    }
   ],
   "source": [
    "game_graph = con.execute('SELECT Game, sum(Win) AS WIN_Total, sum(Loss) AS LOSS_Total, (sum(Win) + sum(Loss)) AS [TOTAL_Played] from Games'\\\n",
    "                       ' GROUP BY Game')\n",
    "\n",
    "gameArray = []\n",
    "gamepctArray = []\n",
    "\n",
    "for row in game_graph:\n",
    "    startInfo = str(row).replace(')','').replace('(','').replace('u\\'','')\n",
    "    gameInfo = startInfo.split(',')\n",
    "    gameAppend = (gameInfo[0])\n",
    "    gamepctAppend = ((int(gameInfo[1])) / (int(gameInfo[3])))*100\n",
    "    gameArray.append(gameAppend)\n",
    "    gamepctArray.append(gamepctAppend)\n",
    "    \n",
    "print(gameArray)\n",
    "print(gamepctArray)"
   ]
  },
  {
   "cell_type": "code",
   "execution_count": null,
   "metadata": {},
   "outputs": [],
   "source": []
  },
  {
   "cell_type": "code",
   "execution_count": null,
   "metadata": {},
   "outputs": [],
   "source": []
  },
  {
   "cell_type": "code",
   "execution_count": null,
   "metadata": {},
   "outputs": [],
   "source": []
  },
  {
   "cell_type": "code",
   "execution_count": null,
   "metadata": {},
   "outputs": [],
   "source": [
    "con.close() "
   ]
  },
  {
   "cell_type": "code",
   "execution_count": 117,
   "metadata": {},
   "outputs": [
    {
     "data": {
      "text/plain": [
       "<sqlite3.Cursor at 0x1d9aa755f80>"
      ]
     },
     "execution_count": 117,
     "metadata": {},
     "output_type": "execute_result"
    }
   ],
   "source": [
    "con.execute('SELECT * from Games')"
   ]
  },
  {
   "cell_type": "code",
   "execution_count": 118,
   "metadata": {},
   "outputs": [],
   "source": [
    "df_lose = pd.read_csv('https://raw.githubusercontent.com/koryvette/python/master/project/Game_stats_Loss.csv')"
   ]
  },
  {
   "cell_type": "code",
   "execution_count": 119,
   "metadata": {},
   "outputs": [
    {
     "data": {
      "text/html": [
       "<div>\n",
       "<style scoped>\n",
       "    .dataframe tbody tr th:only-of-type {\n",
       "        vertical-align: middle;\n",
       "    }\n",
       "\n",
       "    .dataframe tbody tr th {\n",
       "        vertical-align: top;\n",
       "    }\n",
       "\n",
       "    .dataframe thead th {\n",
       "        text-align: right;\n",
       "    }\n",
       "</style>\n",
       "<table border=\"1\" class=\"dataframe\">\n",
       "  <thead>\n",
       "    <tr style=\"text-align: right;\">\n",
       "      <th></th>\n",
       "      <th>Season</th>\n",
       "      <th>Any_Number</th>\n",
       "      <th>Balance_Game</th>\n",
       "      <th>Barkers_Bargain_Bar</th>\n",
       "      <th>Barkers_MarkerS</th>\n",
       "      <th>Bonkers</th>\n",
       "      <th>Bonus_Game</th>\n",
       "      <th>Bullseye</th>\n",
       "      <th>Buy_or_Sell</th>\n",
       "      <th>Card_Game</th>\n",
       "      <th>...</th>\n",
       "      <th>Switcheroo</th>\n",
       "      <th>Take_Two</th>\n",
       "      <th>Temptation</th>\n",
       "      <th>10_Chances</th>\n",
       "      <th>Thats_Too_Much</th>\n",
       "      <th>3_Strikes</th>\n",
       "      <th>Time_is_Money</th>\n",
       "      <th>Triple_Play</th>\n",
       "      <th>2_for_the_Price_of_1</th>\n",
       "      <th>Vend-O-Price</th>\n",
       "    </tr>\n",
       "  </thead>\n",
       "  <tbody>\n",
       "    <tr>\n",
       "      <th>0</th>\n",
       "      <td>29</td>\n",
       "      <td>15</td>\n",
       "      <td>0</td>\n",
       "      <td>8</td>\n",
       "      <td>5</td>\n",
       "      <td>0</td>\n",
       "      <td>2</td>\n",
       "      <td>4</td>\n",
       "      <td>1</td>\n",
       "      <td>14</td>\n",
       "      <td>...</td>\n",
       "      <td>8</td>\n",
       "      <td>2</td>\n",
       "      <td>7</td>\n",
       "      <td>3</td>\n",
       "      <td>2</td>\n",
       "      <td>2</td>\n",
       "      <td>0</td>\n",
       "      <td>7</td>\n",
       "      <td>5</td>\n",
       "      <td>0</td>\n",
       "    </tr>\n",
       "    <tr>\n",
       "      <th>1</th>\n",
       "      <td>30</td>\n",
       "      <td>12</td>\n",
       "      <td>0</td>\n",
       "      <td>8</td>\n",
       "      <td>2</td>\n",
       "      <td>11</td>\n",
       "      <td>0</td>\n",
       "      <td>2</td>\n",
       "      <td>3</td>\n",
       "      <td>12</td>\n",
       "      <td>...</td>\n",
       "      <td>11</td>\n",
       "      <td>2</td>\n",
       "      <td>9</td>\n",
       "      <td>5</td>\n",
       "      <td>18</td>\n",
       "      <td>4</td>\n",
       "      <td>0</td>\n",
       "      <td>5</td>\n",
       "      <td>2</td>\n",
       "      <td>0</td>\n",
       "    </tr>\n",
       "    <tr>\n",
       "      <th>2</th>\n",
       "      <td>31</td>\n",
       "      <td>14</td>\n",
       "      <td>0</td>\n",
       "      <td>7</td>\n",
       "      <td>2</td>\n",
       "      <td>6</td>\n",
       "      <td>4</td>\n",
       "      <td>2</td>\n",
       "      <td>1</td>\n",
       "      <td>9</td>\n",
       "      <td>...</td>\n",
       "      <td>7</td>\n",
       "      <td>2</td>\n",
       "      <td>6</td>\n",
       "      <td>4</td>\n",
       "      <td>18</td>\n",
       "      <td>5</td>\n",
       "      <td>0</td>\n",
       "      <td>6</td>\n",
       "      <td>7</td>\n",
       "      <td>0</td>\n",
       "    </tr>\n",
       "    <tr>\n",
       "      <th>3</th>\n",
       "      <td>32</td>\n",
       "      <td>20</td>\n",
       "      <td>0</td>\n",
       "      <td>13</td>\n",
       "      <td>4</td>\n",
       "      <td>9</td>\n",
       "      <td>1</td>\n",
       "      <td>2</td>\n",
       "      <td>0</td>\n",
       "      <td>11</td>\n",
       "      <td>...</td>\n",
       "      <td>6</td>\n",
       "      <td>3</td>\n",
       "      <td>8</td>\n",
       "      <td>4</td>\n",
       "      <td>14</td>\n",
       "      <td>6</td>\n",
       "      <td>4</td>\n",
       "      <td>5</td>\n",
       "      <td>3</td>\n",
       "      <td>0</td>\n",
       "    </tr>\n",
       "    <tr>\n",
       "      <th>4</th>\n",
       "      <td>33</td>\n",
       "      <td>16</td>\n",
       "      <td>0</td>\n",
       "      <td>10</td>\n",
       "      <td>3</td>\n",
       "      <td>5</td>\n",
       "      <td>1</td>\n",
       "      <td>2</td>\n",
       "      <td>2</td>\n",
       "      <td>14</td>\n",
       "      <td>...</td>\n",
       "      <td>8</td>\n",
       "      <td>1</td>\n",
       "      <td>6</td>\n",
       "      <td>9</td>\n",
       "      <td>17</td>\n",
       "      <td>4</td>\n",
       "      <td>0</td>\n",
       "      <td>5</td>\n",
       "      <td>1</td>\n",
       "      <td>0</td>\n",
       "    </tr>\n",
       "  </tbody>\n",
       "</table>\n",
       "<p>5 rows × 88 columns</p>\n",
       "</div>"
      ],
      "text/plain": [
       "   Season  Any_Number  Balance_Game  Barkers_Bargain_Bar  Barkers_MarkerS  \\\n",
       "0      29          15             0                    8                5   \n",
       "1      30          12             0                    8                2   \n",
       "2      31          14             0                    7                2   \n",
       "3      32          20             0                   13                4   \n",
       "4      33          16             0                   10                3   \n",
       "\n",
       "   Bonkers  Bonus_Game  Bullseye  Buy_or_Sell  Card_Game      ...       \\\n",
       "0        0           2         4            1         14      ...        \n",
       "1       11           0         2            3         12      ...        \n",
       "2        6           4         2            1          9      ...        \n",
       "3        9           1         2            0         11      ...        \n",
       "4        5           1         2            2         14      ...        \n",
       "\n",
       "   Switcheroo  Take_Two  Temptation  10_Chances  Thats_Too_Much  3_Strikes  \\\n",
       "0           8         2           7           3               2          2   \n",
       "1          11         2           9           5              18          4   \n",
       "2           7         2           6           4              18          5   \n",
       "3           6         3           8           4              14          6   \n",
       "4           8         1           6           9              17          4   \n",
       "\n",
       "   Time_is_Money  Triple_Play  2_for_the_Price_of_1  Vend-O-Price  \n",
       "0              0            7                     5             0  \n",
       "1              0            5                     2             0  \n",
       "2              0            6                     7             0  \n",
       "3              4            5                     3             0  \n",
       "4              0            5                     1             0  \n",
       "\n",
       "[5 rows x 88 columns]"
      ]
     },
     "execution_count": 119,
     "metadata": {},
     "output_type": "execute_result"
    }
   ],
   "source": [
    "df_lose.head()"
   ]
  },
  {
   "cell_type": "code",
   "execution_count": null,
   "metadata": {},
   "outputs": [],
   "source": []
  },
  {
   "cell_type": "code",
   "execution_count": 125,
   "metadata": {},
   "outputs": [
    {
     "data": {
      "text/plain": [
       "<sqlite3.Cursor at 0x1d9ab455ce0>"
      ]
     },
     "execution_count": 125,
     "metadata": {},
     "output_type": "execute_result"
    }
   ],
   "source": [
    "cursor=con.cursor()\n",
    "cursor.execute(\"SELECT MAX(Loss) FROM Games\")"
   ]
  },
  {
   "cell_type": "code",
   "execution_count": 128,
   "metadata": {},
   "outputs": [
    {
     "data": {
      "text/plain": [
       "<sqlite3.Cursor at 0x1d9ab455ce0>"
      ]
     },
     "execution_count": 128,
     "metadata": {},
     "output_type": "execute_result"
    }
   ],
   "source": [
    "cursor.execute(\"SELECT MAX(Win) FROM Games\")"
   ]
  },
  {
   "cell_type": "code",
   "execution_count": 91,
   "metadata": {},
   "outputs": [],
   "source": [
    "df_showcase = pd.read_csv('https://raw.githubusercontent.com/koryvette/python/master/project/Showcase_spin.csv')"
   ]
  },
  {
   "cell_type": "code",
   "execution_count": 94,
   "metadata": {},
   "outputs": [],
   "source": [
    "con = sqlite3.connect('priceisright.db')"
   ]
  },
  {
   "cell_type": "code",
   "execution_count": 95,
   "metadata": {},
   "outputs": [],
   "source": [
    "df_showcase.to_sql('Showcase',con, if_exists='replace') "
   ]
  },
  {
   "cell_type": "code",
   "execution_count": 18,
   "metadata": {},
   "outputs": [
    {
     "data": {
      "text/html": [
       "<div>\n",
       "<style scoped>\n",
       "    .dataframe tbody tr th:only-of-type {\n",
       "        vertical-align: middle;\n",
       "    }\n",
       "\n",
       "    .dataframe tbody tr th {\n",
       "        vertical-align: top;\n",
       "    }\n",
       "\n",
       "    .dataframe thead th {\n",
       "        text-align: right;\n",
       "    }\n",
       "</style>\n",
       "<table border=\"1\" class=\"dataframe\">\n",
       "  <thead>\n",
       "    <tr style=\"text-align: right;\">\n",
       "      <th></th>\n",
       "      <th>Season</th>\n",
       "      <th>First_spinner_won</th>\n",
       "      <th>Second_spinner_won</th>\n",
       "      <th>Third_spinner_won</th>\n",
       "    </tr>\n",
       "  </thead>\n",
       "  <tbody>\n",
       "    <tr>\n",
       "      <th>0</th>\n",
       "      <td>29</td>\n",
       "      <td>92</td>\n",
       "      <td>115</td>\n",
       "      <td>121</td>\n",
       "    </tr>\n",
       "    <tr>\n",
       "      <th>1</th>\n",
       "      <td>30</td>\n",
       "      <td>93</td>\n",
       "      <td>133</td>\n",
       "      <td>124</td>\n",
       "    </tr>\n",
       "    <tr>\n",
       "      <th>2</th>\n",
       "      <td>31</td>\n",
       "      <td>103</td>\n",
       "      <td>129</td>\n",
       "      <td>118</td>\n",
       "    </tr>\n",
       "    <tr>\n",
       "      <th>3</th>\n",
       "      <td>32</td>\n",
       "      <td>106</td>\n",
       "      <td>114</td>\n",
       "      <td>130</td>\n",
       "    </tr>\n",
       "    <tr>\n",
       "      <th>4</th>\n",
       "      <td>33</td>\n",
       "      <td>119</td>\n",
       "      <td>106</td>\n",
       "      <td>125</td>\n",
       "    </tr>\n",
       "  </tbody>\n",
       "</table>\n",
       "</div>"
      ],
      "text/plain": [
       "   Season  First_spinner_won  Second_spinner_won  Third_spinner_won\n",
       "0      29                 92                 115                121\n",
       "1      30                 93                 133                124\n",
       "2      31                103                 129                118\n",
       "3      32                106                 114                130\n",
       "4      33                119                 106                125"
      ]
     },
     "execution_count": 18,
     "metadata": {},
     "output_type": "execute_result"
    }
   ],
   "source": [
    "df_showcase.head()"
   ]
  },
  {
   "cell_type": "code",
   "execution_count": 19,
   "metadata": {},
   "outputs": [],
   "source": [
    "con.close()"
   ]
  },
  {
   "cell_type": "code",
   "execution_count": null,
   "metadata": {},
   "outputs": [],
   "source": []
  },
  {
   "cell_type": "code",
   "execution_count": 96,
   "metadata": {},
   "outputs": [
    {
     "data": {
      "image/png": "[encoded data removed]",
      "text/plain": [
       "<Figure size 432x288 with 1 Axes>"
      ]
     },
     "metadata": {},
     "output_type": "display_data"
    }
   ],
   "source": [
    "import numpy as np\n",
    "import matplotlib.pyplot as plt\n",
    "plt.ylabel('Season')\n",
    "plt.xlabel('Showcase Spinner position')\n",
    "\n",
    "plt.plot(ShowcaseStats)\n",
    "plt.show()"
   ]
  },
  {
   "cell_type": "code",
   "execution_count": 104,
   "metadata": {},
   "outputs": [
    {
     "data": {
      "text/plain": [
       "<matplotlib.axes._subplots.AxesSubplot at 0x1f35c4e01d0>"
      ]
     },
     "execution_count": 104,
     "metadata": {},
     "output_type": "execute_result"
    },
    {
     "data": {
      "image/png": "[encoded data removed]",
      "text/plain": [
       "<Figure size 432x288 with 1 Axes>"
      ]
     },
     "metadata": {},
     "output_type": "display_data"
    }
   ],
   "source": [
    "df_showcase.plot.bar()"
   ]
  },
  {
   "cell_type": "code",
   "execution_count": null,
   "metadata": {},
   "outputs": [],
   "source": []
  }
 ],
 "metadata": {
  "celltoolbar": "Raw Cell Format",
  "kernelspec": {
   "display_name": "Python 3",
   "language": "python",
   "name": "python3"
  },
  "language_info": {
   "codemirror_mode": {
    "name": "ipython",
    "version": 3
   },
   "file_extension": ".py",
   "mimetype": "text/x-python",
   "name": "python",
   "nbconvert_exporter": "python",
   "pygments_lexer": "ipython3",
   "version": "3.6.5"
  }
 },
 "nbformat": 4,
 "nbformat_minor": 2
}
